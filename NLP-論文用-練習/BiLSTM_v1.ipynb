{
 "cells": [
  {
   "cell_type": "code",
   "execution_count": 1,
   "metadata": {
    "id": "kElwTjIIFSni"
   },
   "outputs": [
    {
     "name": "stdout",
     "output_type": "stream",
     "text": [
      "WARNING:tensorflow:From c:\\Users\\user\\anaconda3\\Lib\\site-packages\\keras\\src\\losses.py:2976: The name tf.losses.sparse_softmax_cross_entropy is deprecated. Please use tf.compat.v1.losses.sparse_softmax_cross_entropy instead.\n",
      "\n"
     ]
    }
   ],
   "source": [
    "import re # This module provides regular expression matching operations similar to those found in Perl.\n",
    "import matplotlib.pyplot as plt # Matplotlib is a comprehensive library for creating static, animated, and interactive visualizations.\n",
    "import string # String module contains some constants, utility function, and classes for string manipulation.\n",
    "from nltk.corpus import stopwords # Predefined list of common words\n",
    "import nltk \n",
    "from nltk.corpus import wordnet # WordNet is a large lexical database of English. Nouns, verbs, adjectives and adverbs are grouped into sets of cognitive synonyms.\n",
    "from nltk.stem import WordNetLemmatizer # 基於 WordNet 的詞形還原工具 class\n",
    "from nltk.tokenize.treebank import TreebankWordDetokenizer # Detokenizer: 將已分詞的文本重新組合成完整句子 \n",
    "from collections import Counter # 計數class\n",
    "from wordcloud import WordCloud # 生成文字雲class\n",
    "from gensim.utils import simple_preprocess # function, 返回一個已分詞的小寫單詞 list。\n",
    "import gensim # gensim is a Python library for topic modelling, document indexing and similarity retrieval with large corpora.\n",
    "from sklearn.model_selection import train_test_split\n",
    "import spacy # spaCy is a free open-source library for Natural Language Processing in Python. It features NER, POS tagging, dependency parsing, word vectors and more. 其他 NLP 庫 (如 NLTK) 不同，spaCy 主要關注高效的處理管道，以便能夠快速地處理大量文本。\n",
    "import pickle # Data -(Serialization)->  Medium(Binary) -(Deserialization)-> Data\n",
    "import warnings # Python standard library的一部分，用來控制程序中的警告訊息。\n",
    "import seaborn as sns # 繪圖函式庫，以matplotlib為基礎封裝了許多實用的統計圖表，相較於matplotlib，seaborn的預設圖形更為好看，語法更為簡潔，並且良好的支援了pandas函式庫。\n",
    "from sklearn.metrics import confusion_matrix # scikit-learn library -> metrics module -> confusion_matrix function 生成混淆矩陣\n",
    "import tensorflow as tf # 開源的深度學習框架，用於構建和訓練神經網路。它提供了豐富的 API 來處理大規模的機器學習模型和神經網路的訓練與部署。\n",
    "import keras # 神經網路 API，最初作為獨立庫開發，後來被整合進 tensorflow。它提供了簡潔的接口來快速構建和訓練深度學習模型，\n",
    "import numpy as np # 數值計算庫，供了一個高效的多維數組 ndarray\n",
    "import pandas as pd # 數據處理庫，它提供了兩種核心數據結構：DataFrame 和 Series。\n",
    "\n",
    "warnings.filterwarnings('ignore') # 忽略所有警告訊息。"
   ]
  },
  {
   "cell_type": "code",
   "execution_count": 2,
   "metadata": {
    "id": "_KIYuuy_IzhT"
   },
   "outputs": [
    {
     "name": "stdout",
     "output_type": "stream",
     "text": [
      "<class 'pandas.core.frame.DataFrame'>\n",
      "RangeIndex: 26 entries, 0 to 25\n",
      "Data columns (total 25 columns):\n",
      " #   Column       Non-Null Count  Dtype  \n",
      "---  ------       --------------  -----  \n",
      " 0   sentence     26 non-null     object \n",
      " 1   label        26 non-null     int64  \n",
      " 2   Unnamed: 2   0 non-null      float64\n",
      " 3   Unnamed: 3   0 non-null      float64\n",
      " 4   Unnamed: 4   0 non-null      float64\n",
      " 5   Unnamed: 5   0 non-null      float64\n",
      " 6   Unnamed: 6   0 non-null      float64\n",
      " 7   Unnamed: 7   0 non-null      float64\n",
      " 8   Unnamed: 8   0 non-null      float64\n",
      " 9   Unnamed: 9   0 non-null      float64\n",
      " 10  Unnamed: 10  0 non-null      float64\n",
      " 11  Unnamed: 11  0 non-null      float64\n",
      " 12  Unnamed: 12  0 non-null      float64\n",
      " 13  Unnamed: 13  0 non-null      float64\n",
      " 14  Unnamed: 14  0 non-null      float64\n",
      " 15  Unnamed: 15  0 non-null      float64\n",
      " 16  Unnamed: 16  0 non-null      float64\n",
      " 17  Unnamed: 17  0 non-null      float64\n",
      " 18  Unnamed: 18  0 non-null      float64\n",
      " 19  Unnamed: 19  0 non-null      float64\n",
      " 20  Unnamed: 20  0 non-null      float64\n",
      " 21  Unnamed: 21  0 non-null      float64\n",
      " 22  Unnamed: 22  0 non-null      float64\n",
      " 23  Unnamed: 23  0 non-null      float64\n",
      " 24  Unnamed: 24  0 non-null      float64\n",
      "dtypes: float64(23), int64(1), object(1)\n",
      "memory usage: 5.2+ KB\n"
     ]
    }
   ],
   "source": [
    "data = pd.read_csv(r'C:\\Users\\user\\Desktop\\Python\\Thesis\\NLP_old\\1.csv')\n",
    "data.info()"
   ]
  },
  {
   "cell_type": "code",
   "execution_count": 3,
   "metadata": {},
   "outputs": [
    {
     "name": "stdout",
     "output_type": "stream",
     "text": [
      "<class 'pandas.core.frame.DataFrame'>\n",
      "RangeIndex: 26 entries, 0 to 25\n",
      "Data columns (total 2 columns):\n",
      " #   Column    Non-Null Count  Dtype \n",
      "---  ------    --------------  ----- \n",
      " 0   sentence  26 non-null     object\n",
      " 1   label     26 non-null     int64 \n",
      "dtypes: int64(1), object(1)\n",
      "memory usage: 548.0+ bytes\n"
     ]
    },
    {
     "data": {
      "text/html": [
       "<div>\n",
       "<style scoped>\n",
       "    .dataframe tbody tr th:only-of-type {\n",
       "        vertical-align: middle;\n",
       "    }\n",
       "\n",
       "    .dataframe tbody tr th {\n",
       "        vertical-align: top;\n",
       "    }\n",
       "\n",
       "    .dataframe thead th {\n",
       "        text-align: right;\n",
       "    }\n",
       "</style>\n",
       "<table border=\"1\" class=\"dataframe\">\n",
       "  <thead>\n",
       "    <tr style=\"text-align: right;\">\n",
       "      <th></th>\n",
       "      <th>sentence</th>\n",
       "      <th>label</th>\n",
       "    </tr>\n",
       "  </thead>\n",
       "  <tbody>\n",
       "    <tr>\n",
       "      <th>0</th>\n",
       "      <td>$2.26 Billion Growth in Global Smart Waste Man...</td>\n",
       "      <td>2</td>\n",
       "    </tr>\n",
       "    <tr>\n",
       "      <th>1</th>\n",
       "      <td>NEW YORK, March 25, 2021 /PRNewswire/ -- Techn...</td>\n",
       "      <td>0</td>\n",
       "    </tr>\n",
       "    <tr>\n",
       "      <th>2</th>\n",
       "      <td>The market is segmented by application (collec...</td>\n",
       "      <td>0</td>\n",
       "    </tr>\n",
       "    <tr>\n",
       "      <th>3</th>\n",
       "      <td>The report offers an in-depth analysis of rece...</td>\n",
       "      <td>0</td>\n",
       "    </tr>\n",
       "    <tr>\n",
       "      <th>4</th>\n",
       "      <td>Download Sample Report Instantly</td>\n",
       "      <td>0</td>\n",
       "    </tr>\n",
       "  </tbody>\n",
       "</table>\n",
       "</div>"
      ],
      "text/plain": [
       "                                            sentence  label\n",
       "0  $2.26 Billion Growth in Global Smart Waste Man...      2\n",
       "1  NEW YORK, March 25, 2021 /PRNewswire/ -- Techn...      0\n",
       "2  The market is segmented by application (collec...      0\n",
       "3  The report offers an in-depth analysis of rece...      0\n",
       "4                   Download Sample Report Instantly      0"
      ]
     },
     "execution_count": 3,
     "metadata": {},
     "output_type": "execute_result"
    }
   ],
   "source": [
    "findata = data.dropna(axis=1)\n",
    "findata.info()\n",
    "findata.head(5)"
   ]
  },
  {
   "cell_type": "code",
   "execution_count": 4,
   "metadata": {
    "id": "lMUXbriHKDqu"
   },
   "outputs": [
    {
     "data": {
      "text/plain": [
       "array([2, 0, 1], dtype=int64)"
      ]
     },
     "execution_count": 4,
     "metadata": {},
     "output_type": "execute_result"
    }
   ],
   "source": [
    "findata['label'].unique() # Return unique value of a Series object as a Numpy array."
   ]
  },
  {
   "cell_type": "code",
   "execution_count": 5,
   "metadata": {
    "id": "z1bSriFCKNkz"
   },
   "outputs": [
    {
     "data": {
      "text/html": [
       "<div>\n",
       "<style scoped>\n",
       "    .dataframe tbody tr th:only-of-type {\n",
       "        vertical-align: middle;\n",
       "    }\n",
       "\n",
       "    .dataframe tbody tr th {\n",
       "        vertical-align: top;\n",
       "    }\n",
       "\n",
       "    .dataframe thead th {\n",
       "        text-align: right;\n",
       "    }\n",
       "</style>\n",
       "<table border=\"1\" class=\"dataframe\">\n",
       "  <thead>\n",
       "    <tr style=\"text-align: right;\">\n",
       "      <th></th>\n",
       "      <th>sentence</th>\n",
       "    </tr>\n",
       "    <tr>\n",
       "      <th>label</th>\n",
       "      <th></th>\n",
       "    </tr>\n",
       "  </thead>\n",
       "  <tbody>\n",
       "    <tr>\n",
       "      <th>0</th>\n",
       "      <td>18</td>\n",
       "    </tr>\n",
       "    <tr>\n",
       "      <th>1</th>\n",
       "      <td>1</td>\n",
       "    </tr>\n",
       "    <tr>\n",
       "      <th>2</th>\n",
       "      <td>6</td>\n",
       "    </tr>\n",
       "  </tbody>\n",
       "</table>\n",
       "</div>"
      ],
      "text/plain": [
       "       sentence\n",
       "label          \n",
       "0            18\n",
       "1             1\n",
       "2             6"
      ]
     },
     "execution_count": 5,
     "metadata": {},
     "output_type": "execute_result"
    }
   ],
   "source": [
    "findata.groupby('label').nunique() # nunique(): retrun dataframe with counts of unique elements. (number of unique values)"
   ]
  },
  {
   "cell_type": "code",
   "execution_count": 6,
   "metadata": {
    "id": "_Ktd7kXAkj_k"
   },
   "outputs": [
    {
     "data": {
      "text/plain": [
       "0"
      ]
     },
     "execution_count": 6,
     "metadata": {},
     "output_type": "execute_result"
    }
   ],
   "source": [
    "findata['label'].isnull().sum() # if the element in label col is null, return True, and sum then from each row."
   ]
  },
  {
   "cell_type": "markdown",
   "metadata": {},
   "source": [
    "### Regular expression 特殊字符 (Metacharacters)\n",
    "1. `.`： 任意字符，`a.b` -> \"acb\"、\"a-b\"、\"a9b\"等\n",
    "\n",
    "2. `^`： 字符串開頭，`^a` -> \"apple\"等\n",
    "\n",
    "3. `$`： 字符串結尾，`a$` -> \"banana\"等 \n",
    "\n",
    "4. `*`： 字符可有可無，並且可以出現多次，`ab*` -> \"a\"、\"ab\"、\"abb\"、\"abbb\"等\n",
    "\n",
    "5. `+`： 字符至少出現一次，`ab+` -> \"ab\"、\"abb\"、\"abbb\"等\n",
    "\n",
    "6. `?`： 字符出現零或一次，`ab?` -> \"a\" 或 \"ab\"\n",
    "\n",
    "7. `[]`： 字符集，匹配其中任意字符，`[a-z]` -> 匹配小寫字母範圍內的任意一個字符\n",
    "\n",
    "8. `\\`： 有些字符在正則表達式中有特殊含義(. * 等)，想匹配這些符號本身，需要使用 \\ 進行轉義，`\\.` -> 匹配字面上的點號 \".\"\n",
    "\n",
    "9. `|`： 匹配兩邊的任意一個模式，`a|b` -> 匹配 \"a\" 或 \"b\"\n",
    "\n",
    "10. `()`： 用來分組，後續可對組合進行操作，`(ab)+` ->  \"ab\"、\"abab\"等\n",
    "\n",
    "11. `\\S`： 比對任一個非空白字元\n",
    "\n",
    "12. `\\s`： 比對任一個空白字元"
   ]
  },
  {
   "cell_type": "code",
   "execution_count": 8,
   "metadata": {
    "id": "KcA2FYUgKWrh"
   },
   "outputs": [],
   "source": [
    "import re\n",
    "#Remove URLs from sentences\n",
    "#Tokenize text\n",
    "#Remove emails\n",
    "#Remove new lines characters\n",
    "#Remove distracting single quotes\n",
    "def depure_data(data):\n",
    "\n",
    "    #Removing URLs with a regular expression\n",
    "    url_pattern = re.compile(r'https?://\\S+|www\\.\\S+') # Compile a ragular expression pattern, return a \"Pattern object\".\n",
    "    # https?： 匹配 http 或 https，\\S+： 匹配一個或多個「非空白字符」 \n",
    "\n",
    "    data = url_pattern.sub(r'', data) # 使用 Pattern object 的 sub()，將匹配到的文本替換成\"\"\n",
    "    \n",
    "    # Remove Emails\n",
    "    data = re.sub('\\S*@\\S*\\s?', '', data)\n",
    "    # \\S*: 非空白，可有可無\n",
    "    # @\n",
    "    # \\s?: 任何空白字符，如空格、換行符，零或一\n",
    "\n",
    "\n",
    "    # Remove new line characters\n",
    "    data = re.sub('\\s+', '', data) # 移除多餘的空白字符，轉成\"\"\n",
    "\n",
    "\n",
    "    # Remove distracting single quotes\n",
    "    data = re.sub(\"\\'\", \"\", data) # 移除單引號\n",
    "\n",
    "    return data"
   ]
  },
  {
   "cell_type": "markdown",
   "metadata": {},
   "source": [
    "### Test\n",
    "Test: re func"
   ]
  },
  {
   "cell_type": "code",
   "execution_count": 9,
   "metadata": {},
   "outputs": [
    {
     "name": "stdout",
     "output_type": "stream",
     "text": [
      "0: Check this out: https://www.youtube.com/ is good! -> Check this out: is good!\n",
      "1: Please contact me at 1128benbenben@gmail.com for more details. -> Please contact me at for more details.\n",
      "2: This   is  a   test\n",
      "with multiple    spaces\n",
      "and new lines. -> This is a test with multiple spaces and new lines.\n",
      "3: It's a wonderful day! Let's make the best of it. -> Its a wonderful day! Lets make the best of it.\n",
      "4: Contact me at hxiang1128@gmail.com\n",
      " Visit http://example.com for more info! It's   a   great day. -> Contact me at Visit for more info! Its a great day.\n"
     ]
    }
   ],
   "source": [
    "URL_test = \"Check this out: https://www.youtube.com/ is good!\"\n",
    "Email_test = \"Please contact me at 1128benbenben@gmail.com for more details.\"\n",
    "Space_test = \"This   is  a   test\\nwith multiple    spaces\\nand new lines.\"\n",
    "Quote_test = \"It's a wonderful day! Let's make the best of it.\"\n",
    "Combined_test = \"Contact me at hxiang1128@gmail.com\\n Visit http://example.com for more info! It's   a   great day.\"\n",
    "\n",
    "test_list = [URL_test, Email_test, Space_test, Quote_test, Combined_test]\n",
    "for idx, test in enumerate(test_list):\n",
    "    print(f\"{idx}: {test} -> {depure_data(test)}\")"
   ]
  },
  {
   "cell_type": "code",
   "execution_count": 10,
   "metadata": {
    "id": "P4haBNaeK5uL"
   },
   "outputs": [
    {
     "data": {
      "text/plain": [
       "['$2.26 Billion Growth in Global Smart Waste Management Market During 2021-2025 | Featuring Key Vendors Including Bigbelly Inc., Compology, and Contelligent | Technavio',\n",
       " 'NEW YORK, March 25, 2021 /PRNewswire/ -- Technavio announces the release of its latest report on the smart waste management market.',\n",
       " 'The market is segmented by application (collection, landfill, recovery and recycling, and processing) and geography (Europe, APAC, North America, South America, and MEA).',\n",
       " 'The report offers an in-depth analysis of recent developments, changes in market regulations, product approvals, product launches, and the market behavior across various segments.',\n",
       " 'Download Sample Report Instantly']"
      ]
     },
     "execution_count": 10,
     "metadata": {},
     "output_type": "execute_result"
    }
   ],
   "source": [
    "temp = []\n",
    "#Splitting pd.Series to list\n",
    "data_to_list = findata['sentence'].values.tolist() # .value: 轉換成numpy數組\n",
    "for i in range(len(data_to_list)):\n",
    "    temp.append(depure_data(data_to_list[i])) # 移除 URLs、Emails、多餘的空白字符、單引號\n",
    "list(temp[:5]) # index 0~4"
   ]
  },
  {
   "cell_type": "markdown",
   "metadata": {},
   "source": [
    "### `gensim.utils.simple_preprocess()`: 將句子轉換成一個單詞列表。\n",
    "1. 將句子轉換為小寫。\n",
    "2. 去掉標點符號 (當deacc=True時)。\n",
    "3. 移除太短的詞 (預設會去掉少於兩個字母的詞)。\n",
    "4. return 詞語列表\n"
   ]
  },
  {
   "cell_type": "code",
   "execution_count": 11,
   "metadata": {
    "id": "4u-1oiKVLeSF"
   },
   "outputs": [
    {
     "name": "stdout",
     "output_type": "stream",
     "text": [
      "Before: $2.26 Billion Growth in Global Smart Waste Management Market During 2021-2025 | Featuring Key Vendors Including Bigbelly Inc., Compology, and Contelligent | Technavio\n",
      "Before: NEW YORK, March 25, 2021 /PRNewswire/ -- Technavio announces the release of its latest report on the smart waste management market.\n",
      "======================\n",
      "What is sent_to_words(temp): <generator object sent_to_words at 0x0000019AC96ADA80>\n",
      "======================\n",
      "After: [['billion', 'growth', 'in', 'global', 'smart', 'waste', 'management', 'market', 'during', 'featuring', 'key', 'vendors', 'including', 'bigbelly', 'inc', 'compology', 'and', 'contelligent', 'technavio'], ['new', 'york', 'march', 'prnewswire', 'technavio', 'announces', 'the', 'release', 'of', 'its', 'latest', 'report', 'on', 'the', 'smart', 'waste', 'management', 'market']]\n"
     ]
    }
   ],
   "source": [
    "#Remove all punctuation signs\n",
    "def sent_to_words(sentences):\n",
    "    i = 0  \n",
    "    for sentence in sentences:\n",
    "        if i < 2:\n",
    "            print(f\"Before: {sentence}\")\n",
    "        i += 1\n",
    "        yield(gensim.utils.simple_preprocess(str(sentence), deacc=True))  # deacc=True removes punctuations\n",
    "\n",
    "temp_gen = sent_to_words(temp)\n",
    "data_words = list(temp_gen) #  generator -> list\n",
    "\n",
    "print(f\"======================\\nWhat is sent_to_words(temp): {temp_gen}\") # generator object\n",
    "print(f\"======================\\nAfter: {data_words[:2]}\") # index 0, 1 "
   ]
  },
  {
   "cell_type": "code",
   "execution_count": 12,
   "metadata": {
    "id": "OYhWeLw0JIS4"
   },
   "outputs": [
    {
     "name": "stdout",
     "output_type": "stream",
     "text": [
      "26\n"
     ]
    }
   ],
   "source": [
    "print(len(data_words))"
   ]
  },
  {
   "cell_type": "markdown",
   "metadata": {},
   "source": [
    "### `TreebankWordDetokenizer()`\n",
    "來自 nltk.tokenize.treebank 模組的工具，專門用來將標記化後的詞語重新組合成完整的句子。它會正確處理空格與標點符號，確保生成的句子符合語法規則。"
   ]
  },
  {
   "cell_type": "code",
   "execution_count": 13,
   "metadata": {
    "id": "lWtpRO_nMJUE"
   },
   "outputs": [],
   "source": [
    "def detokenize(text):\n",
    "    detokenizer = TreebankWordDetokenizer()\n",
    "    return detokenizer.detokenize(text)"
   ]
  },
  {
   "cell_type": "code",
   "execution_count": 14,
   "metadata": {
    "id": "Bm6jmkgyMNUv"
   },
   "outputs": [
    {
     "name": "stdout",
     "output_type": "stream",
     "text": [
      "Before: ['billion', 'growth', 'in', 'global', 'smart', 'waste', 'management', 'market', 'during', 'featuring', 'key', 'vendors', 'including', 'bigbelly', 'inc', 'compology', 'and', 'contelligent', 'technavio']\n",
      "After: billion growth in global smart waste management market during featuring key vendors including bigbelly inc compology and contelligent technavio\n",
      "\n",
      "Before: ['new', 'york', 'march', 'prnewswire', 'technavio', 'announces', 'the', 'release', 'of', 'its', 'latest', 'report', 'on', 'the', 'smart', 'waste', 'management', 'market']\n",
      "After: new york march prnewswire technavio announces the release of its latest report on the smart waste management market\n",
      "\n",
      "['billion growth in global smart waste management market during featuring key vendors including bigbelly inc compology and contelligent technavio', 'new york march prnewswire technavio announces the release of its latest report on the smart waste management market']\n"
     ]
    }
   ],
   "source": [
    "#Detokenize text\n",
    "data1 = []\n",
    "counter = 0\n",
    "for i in range(len(data_words)):\n",
    "    data1.append(detokenize(data_words[i]))\n",
    "    if counter < 2:\n",
    "        print(f\"Before: {data_words[i]}\\nAfter: {data1[i]}\\n\")\n",
    "        counter += 1\n",
    "\n",
    "print(data1[:2])"
   ]
  },
  {
   "cell_type": "code",
   "execution_count": 15,
   "metadata": {
    "id": "1ABBTbxyMSBt"
   },
   "outputs": [
    {
     "name": "stdout",
     "output_type": "stream",
     "text": [
      "Before: <class 'list'>\n",
      "After: <class 'numpy.ndarray'>\n"
     ]
    }
   ],
   "source": [
    "# Convert list of texts to Numpy array\n",
    "data = np.array(data1)\n",
    "print(f\"Before: {type(data1)}\")\n",
    "print(f\"After: {type(data)}\")"
   ]
  },
  {
   "cell_type": "markdown",
   "metadata": {},
   "source": [
    "### `tf.keras.utils.to_categorical()`\n",
    "將整數類別標籤轉換為 one-hot encoding"
   ]
  },
  {
   "cell_type": "code",
   "execution_count": 16,
   "metadata": {
    "id": "gnAdsH9BPl9s"
   },
   "outputs": [
    {
     "name": "stdout",
     "output_type": "stream",
     "text": [
      "Before: <class 'pandas.core.series.Series'>\n",
      "After: [2 0 0 0 0 0 0 2 1 2 2 2 0 0 0 0 2 0 0 0 0 0 0 0 0 0]\n",
      "\n",
      "Before: <class 'list'>\n",
      "After: <class 'numpy.ndarray'>\n",
      "\n",
      "[[0. 0. 1.]\n",
      " [1. 0. 0.]\n",
      " [1. 0. 0.]\n",
      " [1. 0. 0.]\n",
      " [1. 0. 0.]\n",
      " [1. 0. 0.]\n",
      " [1. 0. 0.]\n",
      " [0. 0. 1.]\n",
      " [0. 1. 0.]\n",
      " [0. 0. 1.]\n",
      " [0. 0. 1.]\n",
      " [0. 0. 1.]\n",
      " [1. 0. 0.]\n",
      " [1. 0. 0.]\n",
      " [1. 0. 0.]\n",
      " [1. 0. 0.]\n",
      " [0. 0. 1.]\n",
      " [1. 0. 0.]\n",
      " [1. 0. 0.]\n",
      " [1. 0. 0.]\n",
      " [1. 0. 0.]\n",
      " [1. 0. 0.]\n",
      " [1. 0. 0.]\n",
      " [1. 0. 0.]\n",
      " [1. 0. 0.]\n",
      " [1. 0. 0.]]\n"
     ]
    }
   ],
   "source": [
    "labels = np.array(findata['label'])\n",
    "print(f\"Before: {type(findata['label'])}\\nAfter: {labels}\\n\")\n",
    "\n",
    "y1 = []  \n",
    "for i in range(len(labels)):\n",
    "    if labels[i] == 0:\n",
    "        y1.append(0)\n",
    "    if labels[i] == 1:\n",
    "        y1.append(1)\n",
    "    if labels[i] == 2:\n",
    "        y1.append(2)\n",
    "\n",
    "y = np.array(y1)\n",
    "print(f\"Before: {type(y1)}\")\n",
    "print(f\"After: {type(y)}\\n\")\n",
    "\n",
    "labels = tf.keras.utils.to_categorical(y, 3, dtype=\"float32\") # (data, num_classes, dtype)\n",
    "print(labels)\n",
    "del y, y1 # deletes variable releases memory."
   ]
  },
  {
   "cell_type": "markdown",
   "metadata": {},
   "source": [
    "### A more pythonic way.."
   ]
  },
  {
   "cell_type": "code",
   "execution_count": 17,
   "metadata": {},
   "outputs": [
    {
     "name": "stdout",
     "output_type": "stream",
     "text": [
      "From the pandas type: [2 0 0 0 0 0 0 2 1 2 2 2 0 0 0 0 2 0 0 0 0 0 0 0 0 0]\n",
      " to the same outcome:\n",
      "[[0. 0. 1.]\n",
      " [1. 0. 0.]\n",
      " [1. 0. 0.]\n",
      " [1. 0. 0.]\n",
      " [1. 0. 0.]\n",
      " [1. 0. 0.]\n",
      " [1. 0. 0.]\n",
      " [0. 0. 1.]\n",
      " [0. 1. 0.]\n",
      " [0. 0. 1.]\n",
      " [0. 0. 1.]\n",
      " [0. 0. 1.]\n",
      " [1. 0. 0.]\n",
      " [1. 0. 0.]\n",
      " [1. 0. 0.]\n",
      " [1. 0. 0.]\n",
      " [0. 0. 1.]\n",
      " [1. 0. 0.]\n",
      " [1. 0. 0.]\n",
      " [1. 0. 0.]\n",
      " [1. 0. 0.]\n",
      " [1. 0. 0.]\n",
      " [1. 0. 0.]\n",
      " [1. 0. 0.]\n",
      " [1. 0. 0.]\n",
      " [1. 0. 0.]]\n"
     ]
    }
   ],
   "source": [
    "labels = np.array(findata['label'])\n",
    "labels_one_hot = tf.keras.utils.to_categorical(labels, 3) # default float32\n",
    "print(f\"From the pandas type: {labels}\\n to the same outcome:\\n{labels_one_hot}\")"
   ]
  },
  {
   "cell_type": "code",
   "execution_count": 18,
   "metadata": {
    "id": "oec_T9XgPvdz"
   },
   "outputs": [
    {
     "name": "stdout",
     "output_type": "stream",
     "text": [
      "26\n",
      "26\n"
     ]
    }
   ],
   "source": [
    "print(len(labels))\n",
    "print(len(labels_one_hot)) # what we need.."
   ]
  },
  {
   "cell_type": "markdown",
   "metadata": {},
   "source": [
    "### `max_words`\n",
    "`num_words`參數的作用是限制要考慮的詞彙表的大小，它設定了只考慮文本中出現頻率最高的5000個詞。\n",
    "\n",
    "當使用`Tokenizer`時，會根據文本中詞語的出現頻率來排序，最常見的詞會被賦予較低的索引。`max_words`限制了最多只保留出現頻率最高的 5000 個詞。只考慮出現頻率較高的詞語，忽略掉不常見的詞，能夠減少訓練時間，並防止模型過於複雜。並且，少數次出現的詞可能帶有過多的噪音，通過忽略這些詞，可以減少過擬合的風險。\n",
    "\n",
    "1. 假設文本中出現頻率最高的詞是 \"the\"，編號 1；\n",
    "2. 第二常見的詞可能是 \"is\"，編號 2；\n",
    "3. 第 5000 常見的詞可能是 \"apple\"，編號 5000；\n",
    "4. 出現次數在 5000 之後的詞將被忽略。\n",
    "\n",
    "\n",
    "### `max_len`\n",
    "`maxlen`參數的作用是將所有文本的長度設置為 200，無論原始文本是多長或多短。在深度學習，輸入數據通常需要有一致的形狀。對於文本數據來說，不同的句子或段落可能有不同的長度，例如一個句子可能有10個詞，而另一個句子可能有300個詞。為了讓所有文本的長度一致，便於訓練，必須將它們填充(padding)或截斷(truncation)到一個固定的長度。\n",
    "\n",
    "`max_len=10`\n",
    "1. Before: [4, 3, 2] -> After:[0, 0, 0, 0, 0, 0, 0, 4, 3, 2] 填充開頭\n",
    "2. Before: [1, 1, 1, 1, 1, 1, 1, 1, 1, 1, 2, 2, 2] -> After: [1, 1, 1, 1, 1, 1, 1, 1, 1, 1]  保留前10"
   ]
  },
  {
   "cell_type": "code",
   "execution_count": 20,
   "metadata": {
    "id": "EHgBPO7FOmje"
   },
   "outputs": [
    {
     "name": "stdout",
     "output_type": "stream",
     "text": [
      "fit_on_texts() is not gonna return a thing: None\n",
      "\n",
      "But we can use tokenizer.word_index: {'the': 1, 'and': 2, 'waste': 3, 'market': 4, 'management': 5, 'of': 6, 'in': 7, 'smart': 8, 'report': 9, 'global': 10, 'is': 11, 'america': 12, 'industrial': 13, 'growth': 14, 'its': 15, 'by': 16, 'offers': 17, 'sample': 18, 'for': 19, 'business': 20, 'free': 21, 'during': 22, 'vendors': 23, 'bigbelly': 24, 'inc': 25, 'technavio': 26, 'segmented': 27, 'recycling': 28, 'geography': 29, 'europe': 30, 'apac': 31, 'north': 32, 'an': 33, 'growing': 34, 'get': 35, 'operates': 36, 'through': 37, 'unified': 38, 'segment': 39, 'company': 40, 'key': 41, 'on': 42, 'application': 43, 'collection': 44, 'south': 45, 'mea': 46, 'regulations': 47, 'product': 48, 'across': 49, 'factors': 50, 'have': 51, 'to': 52, 'forecast': 53, 'period': 54, 'services': 55, 'it': 56, 'hauling': 57, 'other': 58, 'hazardous': 59, 'others': 60, 'exclusive': 61, 'nuclear': 62, 'billion': 63, 'featuring': 64, 'including': 65, 'compology': 66, 'contelligent': 67, 'new': 68, 'york': 69, 'march': 70, 'prnewswire': 71, 'announces': 72, 'release': 73, 'latest': 74, 'landfill': 75, 'recovery': 76, 'processing': 77, 'depth': 78, 'analysis': 79, 'recent': 80, 'developments': 81, 'changes': 82, 'approvals': 83, 'launches': 84, 'behavior': 85, 'various': 86, 'segments': 87, 'download': 88, 'instantly': 89, 'findings': 90, 'drivers': 91, 'one': 92, 'prime': 93, 'driving': 94, 'rapid': 95, 'urbanization': 96, 'world': 97, 'significantly': 98, 'increased': 99, 'production': 100, 'besides': 101, 'stringency': 102, 'rising': 103, 'concerns': 104, 'over': 105, 'environmental': 106, 'impact': 107, 'caused': 108, 'compelled': 109, 'operators': 110, 'invest': 111, 'efficient': 112, 'solutions': 113, 'these': 114, 'are': 115, 'expected': 116, 'open': 117, 'several': 118, 'opportunities': 119, 'investments': 120, 'increasing': 121, 'use': 122, 'data': 123, 'analytics': 124, 'operations': 125, 'will': 126, 'further': 127, 'boost': 128, 'says': 129, 'senior': 130, 'analyst': 131, 'at': 132, 'develop': 133, 'strategies': 134, 'your': 135, 'now': 136, 'major': 137, 'like': 138, 'keeping': 139, 'public': 140, 'spaces': 141, 'litter': 142, 'crews': 143, 'conduct': 144, 'works': 145, 'towards': 146, 'zero': 147, 'initiative': 148, 'campuses': 149, 'scrap': 150, 'metal': 151, 'commercial': 152, 'compactor': 153, 'fullness': 154, 'monitoring': 155, 'device': 156, 'used': 157, 'optimizing': 158, 'inventory': 159, 'levels': 160, 'streamlining': 161, 'routes': 162, 'fresh': 163, 'oil': 164, 'devices': 165, 'related': 166, 'reports': 167, 'industrials': 168, 'include': 169, 'medical': 170, 'volume': 171, 'pwr': 172, 'bwr': 173, 'row': 174}\n",
      "\n",
      "Change into num:\n",
      " [[  0   0   0 ...   2  67  26]\n",
      " [  0   0   0 ...   3   5   4]\n",
      " [  0   0   0 ...  12   2  46]\n",
      " ...\n",
      " [  0   0   0 ...  21  18   9]\n",
      " [  0   0   0 ...  31   2 174]\n",
      " [  0   0   0 ...  21  18   9]]\n"
     ]
    }
   ],
   "source": [
    "from keras.models import Sequential # 線性堆疊模型，Keras 用來構建神經網路模型的基礎結構\n",
    "from keras import layers # Keras 中的神經網路層定義工具\n",
    "from keras.optimizers import RMSprop,Adam # 優化器\n",
    "from keras.preprocessing.text import Tokenizer # Keras 提供的文本處理工具，用來將文本轉換為數字序列。\n",
    "from tensorflow.keras.preprocessing.sequence import pad_sequences # Keras 中用來填充序列的工具。因為神經網路需要一致的輸入長度，所以必須將不同長度的文本填充到固定長度。\n",
    "from keras import regularizers # 防止過擬合，例如使用 L1 或 L2 正則化來約束權重值。\n",
    "from keras import backend as K # Keras 的後端函數集合，用來進行數學操作。\n",
    "from keras.callbacks import ModelCheckpoint # 用來在訓練過程中保存模型，每次模型在驗證集上表現變好時，ModelCheckpoint 會保存該模型的權重。\n",
    "\n",
    "max_words = 5000\n",
    "max_len = 200\n",
    "\n",
    "tokenizer = Tokenizer(num_words=max_words)\n",
    "word_dic = tokenizer.fit_on_texts(data) # fit_on_texts(): 遍歷文本建立詞彙表，它不會return東西，只是用來更新 Tokenizer 內部的狀態。\n",
    "print(f\"fit_on_texts() is not gonna return a thing: {word_dic}\\n\")\n",
    "print(f\"But we can use tokenizer.word_index: {tokenizer.word_index}\\n\") \n",
    "sequences = tokenizer.texts_to_sequences(data) # texts_to_sequences(): 根據剛剛的詞彙表，將文本換成對應的數字\n",
    "finsen = pad_sequences(sequences, maxlen=max_len) # padding or truncate\n",
    "print(f\"Change into num:\\n {finsen}\")"
   ]
  },
  {
   "cell_type": "code",
   "execution_count": 22,
   "metadata": {
    "id": "GIiqqGasPB7K"
   },
   "outputs": [
    {
     "name": "stdout",
     "output_type": "stream",
     "text": [
      "[[0. 0. 1.]\n",
      " [1. 0. 0.]\n",
      " [1. 0. 0.]\n",
      " [1. 0. 0.]\n",
      " [1. 0. 0.]\n",
      " [1. 0. 0.]\n",
      " [1. 0. 0.]\n",
      " [0. 0. 1.]\n",
      " [0. 1. 0.]\n",
      " [0. 0. 1.]\n",
      " [0. 0. 1.]\n",
      " [0. 0. 1.]\n",
      " [1. 0. 0.]\n",
      " [1. 0. 0.]\n",
      " [1. 0. 0.]\n",
      " [1. 0. 0.]\n",
      " [0. 0. 1.]\n",
      " [1. 0. 0.]\n",
      " [1. 0. 0.]\n",
      " [1. 0. 0.]\n",
      " [1. 0. 0.]\n",
      " [1. 0. 0.]\n",
      " [1. 0. 0.]\n",
      " [1. 0. 0.]\n",
      " [1. 0. 0.]\n",
      " [1. 0. 0.]]\n"
     ]
    }
   ],
   "source": [
    "print(labels_one_hot)"
   ]
  },
  {
   "cell_type": "markdown",
   "metadata": {},
   "source": [
    "### `train_test_split()`\n",
    "用來隨機劃分數據集，須提供data與label，預設75% 的數據作為訓練集，25% 的數據作為測試集。<br>\n",
    "`test_size`可調整切割比例。\n"
   ]
  },
  {
   "cell_type": "markdown",
   "metadata": {},
   "source": [
    "Model uses x_train data to learn the relationship between the input features and the output labels.<br>\n",
    "\n",
    "Model makes predictions based on X_train and compares its predictions to y_train (the correct answers).<br>\n",
    "\n",
    "Test set is used to evaluate the model's performance, meaning it tests how well the model can generalize to new, unseen data.<br>\n",
    "\n",
    "During testing, the model's predictions on X_test are compared to y_test.\n"
   ]
  },
  {
   "cell_type": "code",
   "execution_count": 23,
   "metadata": {
    "id": "zBLfrhmLQKTF"
   },
   "outputs": [
    {
     "name": "stdout",
     "output_type": "stream",
     "text": [
      "19 7 19 7\n",
      "\n",
      "train x:\n",
      " [[ 0  0  0 ...  3  5  4]\n",
      " [ 0  0  0 ... 21 18  9]\n",
      " [ 0  0  0 ...  4 41 90]\n",
      " ...\n",
      " [ 0  0  0 ...  1 38 39]\n",
      " [ 0  0  0 ...  1 38 39]\n",
      " [ 0  0  0 ...  4 14 91]]\n",
      "\n",
      "train label:\n",
      " [[1. 0. 0.]\n",
      " [1. 0. 0.]\n",
      " [1. 0. 0.]\n",
      " [1. 0. 0.]\n",
      " [1. 0. 0.]\n",
      " [1. 0. 0.]\n",
      " [1. 0. 0.]\n",
      " [1. 0. 0.]\n",
      " [1. 0. 0.]\n",
      " [1. 0. 0.]\n",
      " [1. 0. 0.]\n",
      " [1. 0. 0.]\n",
      " [1. 0. 0.]\n",
      " [1. 0. 0.]\n",
      " [0. 0. 1.]\n",
      " [0. 0. 1.]\n",
      " [1. 0. 0.]\n",
      " [1. 0. 0.]\n",
      " [1. 0. 0.]]\n",
      "\n",
      "test x:\n",
      " [[  0   0   0 ...   6  13   3]\n",
      " [  0   0   0 ... 148   7 149]\n",
      " [  0   0   0 ...   2  67  26]\n",
      " ...\n",
      " [  0   0   0 ... 131 132  26]\n",
      " [  0   0   0 ...   3   5 113]\n",
      " [  0   0   0 ...  25  24  25]]\n",
      "\n",
      "test label:\n",
      " [[0. 1. 0.]\n",
      " [0. 0. 1.]\n",
      " [0. 0. 1.]\n",
      " [1. 0. 0.]\n",
      " [0. 0. 1.]\n",
      " [0. 0. 1.]\n",
      " [1. 0. 0.]]\n"
     ]
    }
   ],
   "source": [
    "#Splitting the data\n",
    "X_train, X_test, y_train, y_test = train_test_split(finsen, labels_one_hot, random_state=42) # control the random seed, ensure the training and test sets are split in the same way every time the code is run.\n",
    "print (len(X_train),len(X_test),len(y_train),len(y_test))\n",
    "print(f\"\\ntrain x:\\n {X_train}\")\n",
    "print(f\"\\ntrain label:\\n {y_train}\")"
   ]
  },
  {
   "cell_type": "code",
   "execution_count": 24,
   "metadata": {},
   "outputs": [
    {
     "name": "stdout",
     "output_type": "stream",
     "text": [
      "\n",
      "test x:\n",
      " [[  0   0   0 ...   6  13   3]\n",
      " [  0   0   0 ... 148   7 149]\n",
      " [  0   0   0 ...   2  67  26]\n",
      " ...\n",
      " [  0   0   0 ... 131 132  26]\n",
      " [  0   0   0 ...   3   5 113]\n",
      " [  0   0   0 ...  25  24  25]]\n",
      "\n",
      "test label:\n",
      " [[0. 1. 0.]\n",
      " [0. 0. 1.]\n",
      " [0. 0. 1.]\n",
      " [1. 0. 0.]\n",
      " [0. 0. 1.]\n",
      " [0. 0. 1.]\n",
      " [1. 0. 0.]]\n"
     ]
    }
   ],
   "source": [
    "print(f\"\\ntest x:\\n {X_test}\")\n",
    "print(f\"\\ntest label:\\n {y_test}\")"
   ]
  },
  {
   "cell_type": "markdown",
   "metadata": {},
   "source": [
    "### `ModelCheckpoint`\n",
    "`ModelCheckpoint`是 Keras 提供的一個 回調函數(callback)，它的主要作用是在訓練過程中保存模型。它會在每個訓練周期(epoch)結束後檢查模型的性能，根據設定的條件自動保存模型的權重或者整個模型。這樣做的目的是防止在長時間訓練中，由於某些原因（如過擬合或運行中斷）導致丟失了模型的最佳狀態。\n",
    "\n",
    "回調函數（Callback）是 Keras 和其他深度學習框架中用來在訓練過程中插入一些自定義行為的工具。回調函數可以在訓練過程中的各個階段執行，比如在每個 epoch 開始或結束時、每個 batch 結束時、訓練開始或結束時執行一些特定的操作。這使得回調函數成為監控、修改或控制訓練流程的一種靈活手段。\n",
    "\n",
    "### `model.fit()`\n",
    "`model.fit()`是 Keras 用來訓練模型的函數。它會將訓練數據傳入模型，並進行反向傳播來優化模型的參數。"
   ]
  },
  {
   "cell_type": "code",
   "execution_count": 26,
   "metadata": {
    "id": "TJnx1BmtQZoQ"
   },
   "outputs": [
    {
     "name": "stdout",
     "output_type": "stream",
     "text": [
      "WARNING:tensorflow:`period` argument is deprecated. Please use `save_freq` to specify the frequency in number of batches seen.\n",
      "Epoch 1/10\n",
      "1/1 [==============================] - ETA: 0s - loss: 1.0993 - accuracy: 0.0526\n",
      "Epoch 1: val_accuracy improved from -inf to 0.28571, saving model to best_model.hdf5\n",
      "1/1 [==============================] - 3s 3s/step - loss: 1.0993 - accuracy: 0.0526 - val_loss: 1.1056 - val_accuracy: 0.2857\n",
      "Epoch 2/10\n",
      "1/1 [==============================] - ETA: 0s - loss: 1.0511 - accuracy: 0.8947\n",
      "Epoch 2: val_accuracy did not improve from 0.28571\n",
      "1/1 [==============================] - 0s 107ms/step - loss: 1.0511 - accuracy: 0.8947 - val_loss: 1.1089 - val_accuracy: 0.2857\n",
      "Epoch 3/10\n",
      "1/1 [==============================] - ETA: 0s - loss: 1.0003 - accuracy: 0.8947\n",
      "Epoch 3: val_accuracy did not improve from 0.28571\n",
      "1/1 [==============================] - 0s 92ms/step - loss: 1.0003 - accuracy: 0.8947 - val_loss: 1.1148 - val_accuracy: 0.2857\n",
      "Epoch 4/10\n",
      "1/1 [==============================] - ETA: 0s - loss: 0.9407 - accuracy: 0.8947\n",
      "Epoch 4: val_accuracy did not improve from 0.28571\n",
      "1/1 [==============================] - 0s 93ms/step - loss: 0.9407 - accuracy: 0.8947 - val_loss: 1.1272 - val_accuracy: 0.2857\n",
      "Epoch 5/10\n",
      "1/1 [==============================] - ETA: 0s - loss: 0.8561 - accuracy: 0.8947\n",
      "Epoch 5: val_accuracy did not improve from 0.28571\n",
      "1/1 [==============================] - 0s 93ms/step - loss: 0.8561 - accuracy: 0.8947 - val_loss: 1.1608 - val_accuracy: 0.2857\n",
      "Epoch 6/10\n",
      "1/1 [==============================] - ETA: 0s - loss: 0.7281 - accuracy: 0.8947\n",
      "Epoch 6: val_accuracy did not improve from 0.28571\n",
      "1/1 [==============================] - 0s 95ms/step - loss: 0.7281 - accuracy: 0.8947 - val_loss: 1.3116 - val_accuracy: 0.2857\n",
      "Epoch 7/10\n",
      "1/1 [==============================] - ETA: 0s - loss: 0.5128 - accuracy: 0.8947\n",
      "Epoch 7: val_accuracy did not improve from 0.28571\n",
      "1/1 [==============================] - 0s 93ms/step - loss: 0.5128 - accuracy: 0.8947 - val_loss: 1.9831 - val_accuracy: 0.2857\n",
      "Epoch 8/10\n",
      "1/1 [==============================] - ETA: 0s - loss: 0.3691 - accuracy: 0.8947\n",
      "Epoch 8: val_accuracy did not improve from 0.28571\n",
      "1/1 [==============================] - 0s 94ms/step - loss: 0.3691 - accuracy: 0.8947 - val_loss: 2.9572 - val_accuracy: 0.2857\n",
      "Epoch 9/10\n",
      "1/1 [==============================] - ETA: 0s - loss: 0.4335 - accuracy: 0.8947\n",
      "Epoch 9: val_accuracy did not improve from 0.28571\n",
      "1/1 [==============================] - 0s 93ms/step - loss: 0.4335 - accuracy: 0.8947 - val_loss: 3.1143 - val_accuracy: 0.2857\n",
      "Epoch 10/10\n",
      "1/1 [==============================] - ETA: 0s - loss: 0.4434 - accuracy: 0.8947\n",
      "Epoch 10: val_accuracy did not improve from 0.28571\n",
      "1/1 [==============================] - 0s 92ms/step - loss: 0.4434 - accuracy: 0.8947 - val_loss: 2.9056 - val_accuracy: 0.2857\n"
     ]
    }
   ],
   "source": [
    "model = Sequential() #  順序模型，適合層與層之間有序連接的情況。\n",
    "model.add(layers.Embedding(max_words, 50, input_length=max_len)) # Embedding 將離散的詞語表示為密集的向量。每個詞會被表示成一個 50 維的向量。\n",
    "model.add(layers.Bidirectional(layers.LSTM(128,dropout=0.2))) # 雙向層包著(具有128個神經元的LSTM層，每次更新時以20%的概率隨機\"關閉\"LSTM的神經元，避免overfitting)\n",
    "model.add(layers.Dense(3,activation='softmax')) # 全連接層，上層output=這層input，activation引入非線性，常用於產生最終output，3代表輸出類別數 \n",
    "model.compile(optimizer='adam',loss='categorical_crossentropy', metrics=['accuracy']) # 編譯模型(配置模型的訓練過程)\n",
    "\n",
    "checkpoint = ModelCheckpoint( # callback\n",
    "    \"best_model.hdf5\",  \n",
    "    monitor='val_accuracy',  # 決定希望監控的指標。驗證準確率有提升則保存。\n",
    "    verbose=1, # 輸出信息詳略程度\n",
    "    save_best_only=True, # 超過前一次時保存。\n",
    "    mode='auto', # 如何判斷「最好」(準確率=max, loss=min)。\n",
    "    period=1, # 控制模型是否檢查並保存的頻率。\n",
    "    save_weights_only=False \n",
    ") \n",
    "\n",
    "history = model.fit( # model.fit() return 整個訓練過程中的損失值、準確率、驗證損失和驗證準確率等信息。\n",
    "    X_train, y_train,  \n",
    "    epochs=10, \n",
    "    validation_data=(X_test, y_test), \n",
    "    callbacks=[checkpoint] # callbacks para 允許同時使用多個 callback func\n",
    ") "
   ]
  },
  {
   "cell_type": "markdown",
   "metadata": {},
   "source": [
    "# Error and debug\n",
    "## Error 信息：\n",
    "```ValueError: Shapes (None, 1) and (None, 3) are incompatible```\n",
    "### 原因：模型的輸出形狀和標籤形狀不匹配\n",
    "* 模型輸出形狀是 (None, 1)，通常適用於二分類問題。 (None=batch size)\n",
    "* 標籤形狀是 (None, 3)，這是多分類問題中使用了 one-hot encoding 的標籤，有3個類別。\n",
    "___\n",
    "## debug：\n",
    "### 結果為 2.\n",
    "1. 輸出層只設置了一個神經元?\n",
    "2. label one-hot encoding?\n",
    "3. loss function should be`categorical_crossentropy` not `binary_crossentropy`?\n",
    "___\n",
    "## One-hot encoding：\n",
    "在多類別分類問題中，模型輸出通常是一個向量，通過`softmax`激活函數將模型的輸出轉換成概率分佈，對應每個類別的概率。這個向量的長度與類別數相同。因此，使用 one-hot encoding 可以與模型的輸出形狀完全匹配，這樣模型可以直接與目標進行比較。\n",
    "\n",
    "## categorical_crossentropy ：\n",
    "`categorical_crossentropy`是專門為多類別分類問題設計的，它能夠有效地處理每個類別的概率分佈，並計算模型輸出的預測與真實標籤之間的差異。"
   ]
  },
  {
   "cell_type": "code",
   "execution_count": 28,
   "metadata": {
    "id": "r_KopWZsSnvB"
   },
   "outputs": [],
   "source": [
    "# load the best model obtained during training\n",
    "best_model = keras.models.load_model(\"best_model.hdf5\")"
   ]
  },
  {
   "cell_type": "code",
   "execution_count": 29,
   "metadata": {
    "id": "xQEvbBsBSugp"
   },
   "outputs": [
    {
     "name": "stdout",
     "output_type": "stream",
     "text": [
      "1/1 - 1s - loss: 1.1056 - accuracy: 0.2857 - 593ms/epoch - 593ms/step\n",
      "Model accuracy:  0.2857142984867096\n"
     ]
    }
   ],
   "source": [
    "# Evaluate the overall performance of the model,model will automatically use argmax() to identify the result.\n",
    "test_loss, test_acc = best_model.evaluate(X_test, y_test, verbose=2) # return loss and metric, base on complie model's setting.\n",
    "print('Model accuracy: ',test_acc) "
   ]
  },
  {
   "cell_type": "code",
   "execution_count": 30,
   "metadata": {},
   "outputs": [
    {
     "name": "stdout",
     "output_type": "stream",
     "text": [
      "1/1 [==============================] - 0s 32ms/step - loss: 1.1056 - accuracy: 0.2857\n",
      "Model accuracy:  0.2857142984867096\n"
     ]
    }
   ],
   "source": [
    "# Just check out the results with verbose=1 enabled. \n",
    "test_loss, test_acc = best_model.evaluate(X_test, y_test, verbose=1) \n",
    "print('Model accuracy: ',test_acc) "
   ]
  },
  {
   "cell_type": "code",
   "execution_count": 31,
   "metadata": {},
   "outputs": [
    {
     "name": "stdout",
     "output_type": "stream",
     "text": [
      "Model accuracy:  0.2857142984867096\n"
     ]
    }
   ],
   "source": [
    "# Just check out the results with verbose=0 enabled.\n",
    "test_loss, test_acc = best_model.evaluate(X_test, y_test, verbose=0) \n",
    "print('Model accuracy: ',test_acc) "
   ]
  },
  {
   "cell_type": "code",
   "execution_count": 42,
   "metadata": {
    "id": "bCkhz3pUS2uH"
   },
   "outputs": [
    {
     "name": "stdout",
     "output_type": "stream",
     "text": [
      "1/1 [==============================] - 0s 26ms/step\n",
      "\n",
      "The specific output:\n",
      "[[0.35023966 0.32663086 0.32312945]\n",
      " [0.35215944 0.32595313 0.32188743]\n",
      " [0.34920728 0.32831684 0.32247585]\n",
      " [0.35078615 0.32711267 0.3221012 ]\n",
      " [0.34878185 0.3280545  0.32316366]\n",
      " [0.3501437  0.32631582 0.32354057]\n",
      " [0.35018143 0.32834762 0.32147095]]\n",
      "\n",
      "After argmax (what we actually want):\n",
      "[0 0 0 0 0 0 0]\n"
     ]
    }
   ],
   "source": [
    "# Obtain the prediction results for each specific sample, which Keras didn't execute argmax() on its own. \n",
    "predictions = best_model.predict(X_test)\n",
    "print(f\"\\nThe specific output:\\n{predictions}\\n\")\n",
    "pred_after_arg = np.around(predictions, decimals=0).argmax(axis=1)\n",
    "print(f\"After argmax (what we actually want):\\n{pred_after_arg}\")"
   ]
  },
  {
   "cell_type": "markdown",
   "metadata": {},
   "source": [
    "# Confusion Matrix\n",
    "混淆矩陣是一個表格，用於評估分類模型的性能。它能夠詳細描述分類器在分類任務中，對每個類別的預測結果，並將這些結果與真實標籤進行對比。混淆矩陣的每一行代表模型的真實類別，每一列代表模型的預測類別。\n",
    "```\n",
    "               預測類別 0    預測類別 1    預測類別 2\n",
    "真實類別 0          50             3             2\n",
    "真實類別 1           5            45             4\n",
    "真實類別 2           2             3            40\n",
    "```\n",
    "`confusion_matrix(y_true, y_pred)`"
   ]
  },
  {
   "cell_type": "code",
   "execution_count": 43,
   "metadata": {},
   "outputs": [
    {
     "name": "stdout",
     "output_type": "stream",
     "text": [
      "[[0. 1. 0.]\n",
      " [0. 0. 1.]\n",
      " [0. 0. 1.]\n",
      " [1. 0. 0.]\n",
      " [0. 0. 1.]\n",
      " [0. 0. 1.]\n",
      " [1. 0. 0.]]\n"
     ]
    }
   ],
   "source": [
    "print(y_test)"
   ]
  },
  {
   "cell_type": "code",
   "execution_count": 45,
   "metadata": {
    "id": "IfZrI_4TS7MW"
   },
   "outputs": [
    {
     "name": "stdout",
     "output_type": "stream",
     "text": [
      "[[2 0 0]\n",
      " [1 0 0]\n",
      " [4 0 0]]\n"
     ]
    }
   ],
   "source": [
    "from sklearn.metrics import confusion_matrix\n",
    "matrix = confusion_matrix(y_test.argmax(axis=1), pred_after_arg)\n",
    "print(matrix)\n"
   ]
  },
  {
   "cell_type": "code",
   "execution_count": 72,
   "metadata": {
    "id": "VczB_Da3TCAB"
   },
   "outputs": [
    {
     "name": "stdout",
     "output_type": "stream",
     "text": [
      "Before (type):<class 'numpy.ndarray'> \n",
      "\n",
      "After (looks like):\n",
      "          Neutral  Positive  Negative\n",
      "Neutral         2         0         0\n",
      "Positive        1         0         0\n",
      "Negative        4         0         0\n"
     ]
    }
   ],
   "source": [
    "# matrix -> Dataframe\n",
    "conf_matrix = pd.DataFrame(matrix, index=['Neutral', 'Positive', 'Negative'], columns=['Neutral', 'Positive', 'Negative'])\n",
    "print(f\"Before (type):{type(matrix)} \\n\\nAfter (looks like):\\n{conf_matrix}\")"
   ]
  },
  {
   "cell_type": "code",
   "execution_count": 74,
   "metadata": {},
   "outputs": [
    {
     "name": "stdout",
     "output_type": "stream",
     "text": [
      "[[2. 0. 0.]\n",
      " [1. 0. 0.]\n",
      " [4. 0. 0.]]\n"
     ]
    }
   ],
   "source": [
    "print(conf_matrix.to_numpy().astype(\"float\"))"
   ]
  },
  {
   "cell_type": "code",
   "execution_count": 75,
   "metadata": {},
   "outputs": [
    {
     "name": "stdout",
     "output_type": "stream",
     "text": [
      "Before adding a new axis:\n",
      "[2 1 4], The shape of it: (3,)\n",
      "==========================================\n",
      "After adding a new axis:\n",
      "[[2]\n",
      " [1]\n",
      " [4]], The shape of it: (3, 1)\n",
      "==========================================\n",
      "The final normalized outcome:\n",
      "[[1. 0. 0.]\n",
      " [1. 0. 0.]\n",
      " [1. 0. 0.]]\n"
     ]
    }
   ],
   "source": [
    "# normalization: 將每一行的每個值除以該行的總和，使得每一行中的值加起來為 1，而不是絕對的樣本數。\n",
    "norm_matrix = conf_matrix.to_numpy().astype('float') / conf_matrix.sum(axis=1).to_numpy()[:, np.newaxis] # np.newaxis 會將一維數組(或高維數組)，轉換成更高維度的數組\n",
    "print(f\"Before adding a new axis:\\n{conf_matrix.sum(axis=1).to_numpy()}, The shape of it: {conf_matrix.sum(axis=1).to_numpy().shape}\") # shape is a property in pandas or numpy\n",
    "print('==========================================')\n",
    "print(f\"After adding a new axis:\\n{conf_matrix.sum(axis=1).to_numpy()[:, np.newaxis]}, The shape of it: {conf_matrix.sum(axis=1).to_numpy()[:, np.newaxis].shape}\")\n",
    "print('==========================================')\n",
    "print(f\"The final normalized outcome:\\n{norm_matrix}\")"
   ]
  },
  {
   "cell_type": "code",
   "execution_count": 82,
   "metadata": {},
   "outputs": [
    {
     "data": {
      "image/png": "[encoded data removed]",
      "text/plain": [
       "<Figure size 1200x500 with 2 Axes>"
      ]
     },
     "metadata": {},
     "output_type": "display_data"
    },
    {
     "data": {
      "text/html": [
       "<div>\n",
       "<style scoped>\n",
       "    .dataframe tbody tr th:only-of-type {\n",
       "        vertical-align: middle;\n",
       "    }\n",
       "\n",
       "    .dataframe tbody tr th {\n",
       "        vertical-align: top;\n",
       "    }\n",
       "\n",
       "    .dataframe thead th {\n",
       "        text-align: right;\n",
       "    }\n",
       "</style>\n",
       "<table border=\"1\" class=\"dataframe\">\n",
       "  <thead>\n",
       "    <tr style=\"text-align: right;\">\n",
       "      <th></th>\n",
       "      <th>Neutral</th>\n",
       "      <th>Positive</th>\n",
       "      <th>Negative</th>\n",
       "    </tr>\n",
       "  </thead>\n",
       "  <tbody>\n",
       "    <tr>\n",
       "      <th>Neutral</th>\n",
       "      <td>1.0</td>\n",
       "      <td>0.0</td>\n",
       "      <td>0.0</td>\n",
       "    </tr>\n",
       "    <tr>\n",
       "      <th>Positive</th>\n",
       "      <td>1.0</td>\n",
       "      <td>0.0</td>\n",
       "      <td>0.0</td>\n",
       "    </tr>\n",
       "    <tr>\n",
       "      <th>Negative</th>\n",
       "      <td>1.0</td>\n",
       "      <td>0.0</td>\n",
       "      <td>0.0</td>\n",
       "    </tr>\n",
       "  </tbody>\n",
       "</table>\n",
       "</div>"
      ],
      "text/plain": [
       "          Neutral  Positive  Negative\n",
       "Neutral       1.0       0.0       0.0\n",
       "Positive      1.0       0.0       0.0\n",
       "Negative      1.0       0.0       0.0"
      ]
     },
     "execution_count": 82,
     "metadata": {},
     "output_type": "execute_result"
    }
   ],
   "source": [
    "# Use norm_matrix\n",
    "conf_matrix = pd.DataFrame(norm_matrix, index=conf_matrix.index, columns=conf_matrix.columns) \n",
    "plt.figure(figsize = (12,5)) # figure size = 12x5 inch\n",
    "sns.heatmap(conf_matrix, annot=True, annot_kws={\"size\": 15, \"weight\": \"bold\"}) # annot(annotation): 顯示具體的數值。 annot_kws(annotation keywords): 設定標註文字的樣式\n",
    "plt.show()\n",
    "conf_matrix"
   ]
  }
 ],
 "metadata": {
  "accelerator": "GPU",
  "colab": {
   "gpuType": "A100",
   "machine_shape": "hm",
   "provenance": []
  },
  "kernelspec": {
   "display_name": "base",
   "language": "python",
   "name": "python3"
  },
  "language_info": {
   "codemirror_mode": {
    "name": "ipython",
    "version": 3
   },
   "file_extension": ".py",
   "mimetype": "text/x-python",
   "name": "python",
   "nbconvert_exporter": "python",
   "pygments_lexer": "ipython3",
   "version": "3.11.5"
  }
 },
 "nbformat": 4,
 "nbformat_minor": 1
}
